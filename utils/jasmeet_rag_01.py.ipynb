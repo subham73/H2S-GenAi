{
 "cells": [
  {
   "cell_type": "markdown",
   "id": "ed728b7c",
   "metadata": {},
   "source": [
    "### Import necessary packages"
   ]
  },
  {
   "cell_type": "code",
   "execution_count": null,
   "id": "fcc14cab",
   "metadata": {},
   "outputs": [],
   "source": [
    "from dotenv import load_dotenv\n",
    "\n",
    "from langchain_chroma import Chroma\n",
    "from langchain_community.document_loaders import PyPDFDirectoryLoader\n",
    "from langchain_text_splitters import RecursiveCharacterTextSplitter\n",
    "from langchain_huggingface import HuggingFaceEmbeddings\n",
    "\n",
    "load_dotenv()"
   ]
  },
  {
   "cell_type": "markdown",
   "id": "a1d176db",
   "metadata": {},
   "source": [
    "### Load LLM, Vector Store, and Embedding model"
   ]
  },
  {
   "cell_type": "code",
   "execution_count": 20,
   "id": "48b4b8c4",
   "metadata": {},
   "outputs": [],
   "source": [
    "from langchain.chat_models import init_chat_model\n",
    "\n",
    "llm = init_chat_model(\"gemini-2.5-flash\", model_provider=\"google_genai\")"
   ]
  },
  {
   "cell_type": "code",
   "execution_count": 21,
   "id": "57301020",
   "metadata": {},
   "outputs": [
    {
     "name": "stderr",
     "output_type": "stream",
     "text": [
      "c:\\Users\\sjasm\\Documents\\gen-ai-exchange\\.venv\\Lib\\site-packages\\tqdm\\auto.py:21: TqdmWarning: IProgress not found. Please update jupyter and ipywidgets. See https://ipywidgets.readthedocs.io/en/stable/user_install.html\n",
      "  from .autonotebook import tqdm as notebook_tqdm\n",
      "Xet Storage is enabled for this repo, but the 'hf_xet' package is not installed. Falling back to regular HTTP download. For better performance, install the package with: `pip install huggingface_hub[hf_xet]` or `pip install hf_xet`\n"
     ]
    }
   ],
   "source": [
    "embeddings = HuggingFaceEmbeddings(model_name=\"sentence-transformers/all-mpnet-base-v2\")"
   ]
  },
  {
   "cell_type": "code",
   "execution_count": null,
   "id": "84587074",
   "metadata": {},
   "outputs": [],
   "source": [
    "vector_store = Chroma(\n",
    "    collection_name=\"FDA_collection\",\n",
    "    embedding_function=embeddings,\n",
    "    persist_directory=\"./chroma_langchain_db\",  \n",
    ")"
   ]
  },
  {
   "cell_type": "markdown",
   "id": "76be2199",
   "metadata": {},
   "source": [
    "### Load Docs and perform Chunking"
   ]
  },
  {
   "cell_type": "code",
   "execution_count": 12,
   "id": "b314f17d",
   "metadata": {},
   "outputs": [],
   "source": [
    "loader = PyPDFDirectoryLoader(\n",
    "    path = \"FDA_guidlineDocs\",\n",
    "    silent_errors = False,\n",
    "    load_hidden = False,\n",
    "    recursive = False,\n",
    "    extraction_mode = \"plain\",\n",
    ")"
   ]
  },
  {
   "cell_type": "code",
   "execution_count": null,
   "id": "4ed94e7d",
   "metadata": {},
   "outputs": [],
   "source": [
    "docs = loader.load()"
   ]
  },
  {
   "cell_type": "code",
   "execution_count": 16,
   "id": "4e367cb8",
   "metadata": {},
   "outputs": [
    {
     "name": "stdout",
     "output_type": "stream",
     "text": [
      "48697696dft \n",
      "Regulatory Considerations \n",
      "for Prescription Drug Use-\n",
      "Related Software  \n",
      " \n",
      "Guidance for Industry \n",
      " \n",
      " \n",
      " \n",
      " DRAFT GUIDANCE  \n",
      " \n",
      " This guidance document is being distributed for comment purposes only. \n",
      " \n",
      "Comments and suggestions regarding this draft document should be submitted within 90 day\n",
      "{'producer': 'Adobe PDF Library 23.3.20', 'creator': 'Acrobat PDFMaker 23 for Word', 'creationdate': '2023-09-14T14:26:43-04:00', 'author': 'Wearne, Evan', 'company': 'FDA.CDER', 'contenttypeid': '0x010100711A2959D0A82541B5AA124D14A3ABE8', 'keywords': '', 'mediaserviceimagetags': '', 'moddate': '2023-09-14T14:26:47-04:00', 'order': '97000.000000', 'sourcemodified': '', 'subject': '', 'title': 'Guidance for Industry', '_dlc_dociditemguid': '1c74c394-c0d7-4dc7-8542-4421fee3da99', 'source': 'FDA_guidlineDocs\\\\48697696dft (1).pdf', 'total_pages': 19, 'page': 0, 'page_label': '1'}\n"
     ]
    }
   ],
   "source": [
    "print(docs[0].page_content[:300])\n",
    "print(docs[0].metadata)"
   ]
  },
  {
   "cell_type": "code",
   "execution_count": null,
   "id": "75ac2bd7",
   "metadata": {},
   "outputs": [
    {
     "name": "stdout",
     "output_type": "stream",
     "text": [
      "1418\n"
     ]
    }
   ],
   "source": [
    "text_splitter = RecursiveCharacterTextSplitter(chunk_size=1000, chunk_overlap=200)\n",
    "all_splits = text_splitter.split_documents(docs)\n",
    "print(len(all_splits)) ## text split into 1418 chunks"
   ]
  },
  {
   "cell_type": "markdown",
   "id": "b87be808",
   "metadata": {},
   "source": [
    "### Index chunks"
   ]
  },
  {
   "cell_type": "code",
   "execution_count": 23,
   "id": "f195e394",
   "metadata": {},
   "outputs": [],
   "source": [
    "_ = vector_store.add_documents(documents=all_splits)"
   ]
  },
  {
   "cell_type": "code",
   "execution_count": 32,
   "id": "826c5dd9",
   "metadata": {},
   "outputs": [],
   "source": [
    "def retrieve_top_k_chucks(query: str, k: int) -> list:\n",
    "\n",
    "    \"\"\"Return top 'k' chunks with similarity score from vector_store\"\"\"\n",
    "\n",
    "    results = []\n",
    "    \n",
    "    docs =  vector_store.similarity_search_with_score(query, k=k)\n",
    "\n",
    "    for doc, score in docs:\n",
    "        results.append({\n",
    "                    \"title\": doc.metadata.get(\"title\", \"Untitled\"),\n",
    "                    \"source\": doc.metadata.get(\"source\", \"Unknown\"),\n",
    "                    \"content\": doc.page_content\n",
    "        })\n",
    "    \n",
    "    return results\n"
   ]
  },
  {
   "cell_type": "code",
   "execution_count": 33,
   "id": "b3b48e44",
   "metadata": {},
   "outputs": [],
   "source": [
    "query = \"I am working on medical devices OTS software\"\n",
    "\n",
    "results = retrieve_top_k_chucks(query = query, k = 3)"
   ]
  },
  {
   "cell_type": "code",
   "execution_count": 36,
   "id": "29028715",
   "metadata": {},
   "outputs": [
    {
     "name": "stdout",
     "output_type": "stream",
     "text": [
      "{'title': 'Off-the-Shelf Software Use in Medical Devices', 'source': 'FDA_guidlineDocs\\\\Off-The-Shelf-Guidance_0.pdf', 'content': 'Contains Nonbinding Recommendations\\n9\\nassociated with the OTS Software. \\n· Provide the results of the testing. \\n· Is there a current list of OTS Software problems (bugs) and access to updates?\\nFor more information on software testing, verification, and validation, please see section \\nIII.C. \\n6. How will you keep track of (control14) the OTS Software?\\nAn appropriate plan should answer the following questions:\\n· What measures have been designed into the medical device to prevent the introduction of \\nincorrect versions? On startup, ideally, the medical device should check to verify that all \\nsoftware is the correct title, version level, and configuration. If the correct software is not \\nloaded, the medical device should warn the operator and shut down to a safe state.\\n· How will you maintain the OTS software configuration?\\n· Where and how will you store the OTS software?\\n· How will you ensure proper installation of the OTS software?'}\n"
     ]
    }
   ],
   "source": [
    "print(results[0])"
   ]
  },
  {
   "cell_type": "markdown",
   "id": "973d7e9f",
   "metadata": {},
   "source": [
    "### Integrating LLM with the retriever: using langgraph"
   ]
  },
  {
   "cell_type": "code",
   "execution_count": 44,
   "id": "659ca6cf",
   "metadata": {},
   "outputs": [],
   "source": [
    "from typing import TypedDict\n",
    "from langchain.prompts import ChatPromptTemplate\n",
    "from langgraph.graph import START, StateGraph"
   ]
  },
  {
   "cell_type": "code",
   "execution_count": null,
   "id": "9b024fd8",
   "metadata": {},
   "outputs": [],
   "source": [
    "## custom prompt with chat prompt template\n",
    "\n",
    "custom_prompt = ChatPromptTemplate.from_messages([\n",
    "    (\"system\", \"You are a helpful assistant. Use the provided context to answer the question.\"),\n",
    "    (\"human\", \"Question: {question}\\n\\nContext:\\n{context}\\n\\nAnswer:\")\n",
    "])"
   ]
  },
  {
   "cell_type": "code",
   "execution_count": 53,
   "id": "478db3df",
   "metadata": {},
   "outputs": [],
   "source": [
    "# Define state for application\n",
    "class State(TypedDict):\n",
    "    question: str\n",
    "    context: List[Document]\n",
    "    answer: str\n"
   ]
  },
  {
   "cell_type": "code",
   "execution_count": 47,
   "id": "7d0578b2",
   "metadata": {},
   "outputs": [],
   "source": [
    "def retrieve(state: State):\n",
    "    retrieved_docs = vector_store.similarity_search(state[\"question\"])\n",
    "    return {\"context\": retrieved_docs}"
   ]
  },
  {
   "cell_type": "code",
   "execution_count": 48,
   "id": "b0de3ad7",
   "metadata": {},
   "outputs": [],
   "source": [
    "def generate(state: State):\n",
    "    docs_content = \"\\n\\n\".join(doc.page_content for doc in state[\"context\"])\n",
    "    messages = custom_prompt.invoke({\n",
    "        \"question\": state[\"question\"],\n",
    "        \"context\": docs_content\n",
    "    })\n",
    "    response = llm.invoke(messages)\n",
    "    return {\"answer\": response.content}"
   ]
  },
  {
   "cell_type": "code",
   "execution_count": 49,
   "id": "021d2b3f",
   "metadata": {},
   "outputs": [],
   "source": [
    "graph_builder = StateGraph(State).add_sequence([retrieve, generate])\n",
    "graph_builder.add_edge(START, \"retrieve\")\n",
    "graph = graph_builder.compile()"
   ]
  },
  {
   "cell_type": "code",
   "execution_count": 50,
   "id": "2a8b72fe",
   "metadata": {},
   "outputs": [
    {
     "data": {
      "image/png": "[encoded data removed]",
      "text/plain": [
       "<IPython.core.display.Image object>"
      ]
     },
     "metadata": {},
     "output_type": "display_data"
    }
   ],
   "source": [
    "from IPython.display import Image, display\n",
    "\n",
    "display(Image(graph.get_graph().draw_mermaid_png()))"
   ]
  },
  {
   "cell_type": "code",
   "execution_count": 54,
   "id": "866225aa",
   "metadata": {},
   "outputs": [],
   "source": [
    "result = graph.invoke({\"question\": \"I am working on medical devices OTS software, what guidelines should i follow?\"})"
   ]
  },
  {
   "cell_type": "code",
   "execution_count": 55,
   "id": "6e1c2934",
   "metadata": {},
   "outputs": [
    {
     "name": "stdout",
     "output_type": "stream",
     "text": [
      "Context: [Document(id='17f7b3ac-5f72-4452-9a2f-dfb5c40c8415', metadata={'subject': '', 'producer': 'iTextSharp 4.0.3 (based on iText 2.0.2)', 'creator': 'CommonLook Office-2.1.5.37', 'creationdate': '2023-08-10T11:22:57-04:00', 'page_label': '10', 'page': 9, 'title': 'Off-the-Shelf Software Use in Medical Devices', 'source': 'FDA_guidlineDocs\\\\Off-The-Shelf-Guidance_0.pdf', 'nccl_standard': 'Section 508; WCAG 2.0 AA; PDF/UA', 'nccl_status': 'Passed', 'nccl_app': 'Office', 'keywords': '', 'moddate': '2024-02-07T10:04:10-05:00', 'part': '1', 'total_pages': 20, 'author': 'FDA CDRH'}, page_content='o Note: If the sponsor allows the use of the medical device with different versions of \\nOTS software, then the sponsor should validate the medical device for each OTS \\nsoftware version.\\n· Provide a current list of OTS software defects.16\\nD. Assurance of Development Methodologies and \\nContinued Maintenance of OTS Software  \\nGenerally, the following recommendations for premarket documentation are applicable to \\ndevices with Enhanced Documentation, where controls17 address the use of OTS software:\\n1. Provide assurance to the FDA that the product development methodologies used by the \\nOTS software developer are appropriate and sufficient for the intended use of the OTS \\nsoftware within the specific medical device. For example, this may include a review of the \\nOTS software developer’s design and development methodologies used in the construction \\nof the OTS software. This review should thoroughly assess the development and'), Document(id='2ddec60c-9264-4dfe-8b61-35a5515cd7ee', metadata={'total_pages': 20, 'creationdate': '2023-08-10T11:22:57-04:00', 'nccl_status': 'Passed', 'creator': 'CommonLook Office-2.1.5.37', 'page': 12, 'nccl_standard': 'Section 508; WCAG 2.0 AA; PDF/UA', 'producer': 'iTextSharp 4.0.3 (based on iText 2.0.2)', 'subject': '', 'author': 'FDA CDRH', 'source': 'FDA_guidlineDocs\\\\Off-The-Shelf-Guidance_0.pdf', 'moddate': '2024-02-07T10:04:10-05:00', 'keywords': '', 'part': '1', 'page_label': '13', 'nccl_app': 'Office', 'title': 'Off-the-Shelf Software Use in Medical Devices'}, page_content='serious injury, either to a patient, user of the device, or others in the environment of use. \\nEach concern below corresponds to a product development life cycle phase. The concerns \\nidentify fundamental maintenance concerns relevant to medical devices that include software. \\nGenerally, when considering these topics, sponsors should follow the Quality System \\nRegulations (21 CFR Part 820), which include requirements for Design Control (21 CFR \\n820.30) and Corrective and Preventive action (21 CFR 820.100). \\n(1) Safety\\nIntroduction of new or modified OTS software component(s) to a product baseline may impact \\nthe safety of the product. Therefore, a safety impact assessment of the medical device should \\nbe performed, and associated hazards documented in a Risk Management File. For more \\ninformation on risk management files, please refer to the FDA guidance titled “Content of'), Document(id='c6feab25-6768-4e27-b419-721ac0d2a691', metadata={'creationdate': '2023-08-10T11:22:57-04:00', 'part': '1', 'nccl_standard': 'Section 508; WCAG 2.0 AA; PDF/UA', 'keywords': '', 'source': 'FDA_guidlineDocs\\\\Off-The-Shelf-Guidance_0.pdf', 'total_pages': 20, 'page': 12, 'title': 'Off-the-Shelf Software Use in Medical Devices', 'creator': 'CommonLook Office-2.1.5.37', 'nccl_app': 'Office', 'author': 'FDA CDRH', 'subject': '', 'nccl_status': 'Passed', 'page_label': '13', 'moddate': '2024-02-07T10:04:10-05:00', 'producer': 'iTextSharp 4.0.3 (based on iText 2.0.2)'}, page_content='corrections, or environmental adaptations. These types of changes may impact the integrity of \\nthe structure organization, architecture, logic, integration, or any combination of these \\ncharacteristics. Maintenance of products with OTS software components may be particularly \\nproblematic for reasons discussed in the main body of this document (i.e., the sponsor does not \\nhave control of the OTS software component life cycle process).\\nIn particular, this section identifies general safety and effectiveness, design, software testing as \\na part of verification/validation, change, installation, and decommissioning concerns. These \\nconcerns may be applied to all regulated medical device software and stand-alone medical \\nsoftware devices. The appropriate evaluation will depend on the probable risk of death or \\nserious injury, either to a patient, user of the device, or others in the environment of use. \\nEach concern below corresponds to a product development life cycle phase. The concerns'), Document(id='bbdbb90f-a7a3-4876-abc6-513aef560e64', metadata={'subject': 'Issued: 01-14-2004', 'nccl_-100-33103-59-127': 'NCCL060', 'page': 3, 'nccl_-100-33103-59-126': 'NCCL-115113-113114', 'page_label': '4', 'nccl_-100-33103-59-125': 'NCCL-09-92061-48', 'creationdate': '2005-01-18T19:13:55+00:00', 'nccl_-100-33103-59-122': 'NCCL103086-90098', 'nccl_-100-33103-59-121': 'NCCL-127-94-86044', 'author': 'Author: John F. Murray Jr., David S. Buckles', 'creator': 'Acrobat PDFMaker 5.0 for Word', 'nccl_-100-33103-59-124': 'NCCL127-104-37-94', 'keywords': 'Posted: 01-18-2005, cybersecurity, software, networking', 'total_pages': 7, 'source': 'FDA_guidlineDocs\\\\Cybersecurity-for-Networked-Medical-Devices-Containing-Off-the-Shelf-(OTS)-Software---Guidance-for-Industry.pdf', 'title': 'Guidance for Industry and FDA Staff', 'nccl_docid': '12108', 'nccl_-100-33103-59-123': 'NCCL-91105025116', 'producer': 'Acrobat Distiller 5.0.5 (Windows)', 'moddate': '2015-02-24T10:52:18-05:00'}, page_content='organized in question-and-answer format, providing responses to questions that have \\nfrequently been posed to FDA staff.  The “I” in the questions and the “you” in the answers \\nare intended to apply to device manufacturers who incorporate OTS software in their medical \\ndevices. \\nThe QS regulation, 21 CFR Part 820, applies to software maintenance actions. In addition, \\nFDA has issued several guidance documents on software, including:  \\nGeneral Principles of Software Validation; Final Guidance for Industry and FDA Staff, \\nJanuary 11, 2002, http://www.fda.gov/cdrh/comp/guidance/938.html. \\nGuidance for Industry, FDA Reviewers and Compliance on Off-the-Shelf Software Use in \\nMedical Devices, September 9, 1999,   \\nhttp://www.fda.gov/cdrh/ode/guidance/585.html.  \\nGuidance for FDA Reviewers and Industry, Guidance for the Content of Premarket \\nSubmissions for Software Contained in Medical Devices, May 29, 1998, \\nhttp://www.fda.gov/cdrh/ode/57.html.  \\n 2')]\n",
      "\n",
      "\n",
      "Answer: Based on the provided context, if you are working on medical devices with Off-The-Shelf (OTS) software, you should follow these guidelines:\n",
      "\n",
      "**I. Core Regulations and Guidance Documents:**\n",
      "\n",
      "*   **Quality System Regulations (21 CFR Part 820):** This is a primary requirement, including:\n",
      "    *   **Design Control (21 CFR 820.30)**\n",
      "    *   **Corrective and Preventive Action (21 CFR 820.100)**\n",
      "    *   Applies specifically to software maintenance actions.\n",
      "*   **FDA Guidance Documents on Software:**\n",
      "    *   **General Principles of Software Validation; Final Guidance for Industry and FDA Staff** (January 11, 2002)\n",
      "    *   **Guidance for Industry, FDA Reviewers and Compliance on Off-the-Shelf Software Use in Medical Devices** (September 9, 1999) - *This is highly relevant to your specific work.*\n",
      "    *   **Guidance for FDA Reviewers and Industry, Guidance for the Content of Premarket Submissions for Software Contained in Medical Devices** (May 29, 1998)\n",
      "\n",
      "**II. Specific Requirements and Considerations for OTS Software:**\n",
      "\n",
      "1.  **Validation for Each Version:** If the medical device uses different versions of OTS software, you must **validate the medical device for each OTS software version.**\n",
      "2.  **Current List of Defects:** Provide a current list of OTS software defects.\n",
      "3.  **Assurance of Developer Methodologies:** Provide assurance to the FDA that the product development methodologies used by the OTS software developer are **appropriate and sufficient** for the intended use of the OTS software within the specific medical device. This may involve reviewing their design and development methodologies.\n",
      "4.  **Safety Impact Assessment & Risk Management:**\n",
      "    *   Perform a **safety impact assessment** of the medical device when introducing new or modified OTS software components.\n",
      "    *   Document associated hazards in a **Risk Management File**.\n",
      "5.  **General Concerns to Address:** Consider and evaluate the following concerns, especially depending on the probable risk of death or serious injury:\n",
      "    *   Safety and effectiveness\n",
      "    *   Design\n",
      "    *   Software testing (as part of verification/validation)\n",
      "    *   Change management\n",
      "    *   Installation\n",
      "    *   Decommissioning\n"
     ]
    }
   ],
   "source": [
    "print(f\"Context: {result['context']}\\n\\n\")\n",
    "print(f\"Answer: {result['answer']}\")"
   ]
  },
  {
   "cell_type": "code",
   "execution_count": null,
   "id": "d67f818a",
   "metadata": {},
   "outputs": [],
   "source": [
    "class ComplianceCheckerTool(BaseTool):\n",
    "    name: str = \"compliance_checker\"\n",
    "    description: str = \"Validates test cases against regulatory requirements\"\n",
    "\n",
    "    def _run(self, test_cases: List[Dict], regulations: List[str]) -> List[Dict]:\n",
    "        print(\"inside ComplianceCheckerTool _run\")\n",
    "        compliance_results = []\n",
    "        for test_case in test_cases:\n",
    "            for regulation in regulations:\n",
    "                result = self._check_regulation_compliance(test_case, regulation)\n",
    "                compliance_results.append(result)\n",
    "        print(\"compliance_results from tool: \", compliance_results)\n",
    "        return compliance_results\n",
    "\n",
    "    def _check_regulation_compliance(self, test_case: Dict, regulation: str) -> Dict:\n",
    "        # TODO:GIVE YOUR LOGIC HERE and see how the things are happening.  \n",
    "        # violations = []\n",
    "        # recommendations = []\n",
    "        # risk_level = \"Low\"\n",
    "        # if regulation not in HEALTHCARE_REGULATIONS:\n",
    "        #     return {\n",
    "        #         \"test_case_id\": test_case[\"id\"],\n",
    "        #         \"regulation\": regulation,\n",
    "        #         \"compliance_status\": \"Unknown\",\n",
    "        #         \"violations\": [\"Regulation not in knowledge base\"],\n",
    "        #         \"recommendations\": [\"Review regulation requirements manually\"],\n",
    "        #         \"risk_level\": \"Medium\"\n",
    "        #     }\n",
    "        # reg_info = HEALTHCARE_REGULATIONS[regulation]\n",
    "        # if regulation == \"FDA_510K\":\n",
    "        #     violations, recommendations, risk_level = self._check_fda_510k_compliance(test_case)\n",
    "        # \n",
    "        # return {\n",
    "        #     \"test_case_id\": test_case[\"id\"],\n",
    "        #     \"regulation\": regulation,\n",
    "        #     \"compliance_status\": compliance_status,\n",
    "        #     \"violations\": violations,\n",
    "        #     \"recommendations\": recommendations,\n",
    "        #     \"risk_level\": risk_level\n",
    "        # }\n",
    "\n",
    "        def _check_fda_510k_compliance(self, test_case: Dict) -> tuple:\n",
    "            violations, recommendations = [], []\n",
    "            risk_level = \"Low\"\n",
    "            if test_case[\"priority\"] == \"Critical\":\n",
    "                if not test_case.get(\"traceability_id\", \"\").startswith(\"RISK\"):\n",
    "                    recommendations.append(\"Link to risk analysis documentation\")\n",
    "            return violations, recommendations, risk_level"
   ]
  },
  {
   "cell_type": "code",
   "execution_count": null,
   "id": "6b61de1b",
   "metadata": {},
   "outputs": [],
   "source": []
  }
 ],
 "metadata": {
  "kernelspec": {
   "display_name": "gen-ai-exchange",
   "language": "python",
   "name": "python3"
  },
  "language_info": {
   "codemirror_mode": {
    "name": "ipython",
    "version": 3
   },
   "file_extension": ".py",
   "mimetype": "text/x-python",
   "name": "python",
   "nbconvert_exporter": "python",
   "pygments_lexer": "ipython3",
   "version": "3.12.11"
  }
 },
 "nbformat": 4,
 "nbformat_minor": 5
}
