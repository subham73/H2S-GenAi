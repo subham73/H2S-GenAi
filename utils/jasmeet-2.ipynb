{
 "cells": [
  {
   "cell_type": "code",
   "execution_count": 10,
   "id": "95539178",
   "metadata": {},
   "outputs": [
    {
     "data": {
      "text/plain": [
       "True"
      ]
     },
     "execution_count": 10,
     "metadata": {},
     "output_type": "execute_result"
    }
   ],
   "source": [
    "import os\n",
    "from dotenv import load_dotenv\n",
    "\n",
    "from langchain_chroma import Chroma\n",
    "from langchain_community.document_loaders import PyPDFDirectoryLoader\n",
    "from langchain_text_splitters import RecursiveCharacterTextSplitter\n",
    "from langchain_huggingface import HuggingFaceEmbeddings\n",
    "\n",
    "load_dotenv()"
   ]
  },
  {
   "cell_type": "code",
   "execution_count": 2,
   "id": "3bec0db1",
   "metadata": {},
   "outputs": [],
   "source": [
    "from langchain.chat_models import init_chat_model\n",
    "\n",
    "llm = init_chat_model(\"gemini-2.5-flash\", model_provider=\"google_genai\")"
   ]
  },
  {
   "cell_type": "code",
   "execution_count": 3,
   "id": "401cdc8e",
   "metadata": {},
   "outputs": [
    {
     "name": "stderr",
     "output_type": "stream",
     "text": [
      "c:\\Users\\sjasm\\Documents\\gen-ai-exchange\\.venv\\Lib\\site-packages\\tqdm\\auto.py:21: TqdmWarning: IProgress not found. Please update jupyter and ipywidgets. See https://ipywidgets.readthedocs.io/en/stable/user_install.html\n",
      "  from .autonotebook import tqdm as notebook_tqdm\n"
     ]
    }
   ],
   "source": [
    "embeddings = HuggingFaceEmbeddings(model_name=\"sentence-transformers/all-mpnet-base-v2\")"
   ]
  },
  {
   "cell_type": "markdown",
   "id": "b0109d8b",
   "metadata": {},
   "source": [
    "### Load Vector store"
   ]
  },
  {
   "cell_type": "code",
   "execution_count": null,
   "id": "2e3976a4",
   "metadata": {},
   "outputs": [],
   "source": [
    "persist_directory = \"chroma_langchain_db\"\n",
    "\n",
    "# Load existing Chroma vector store\n",
    "vector_store = Chroma(\n",
    "    collection_name=\"example_collection\",\n",
    "    embedding_function=embeddings,\n",
    "    persist_directory=persist_directory )\n"
   ]
  },
  {
   "cell_type": "markdown",
   "id": "4b289471",
   "metadata": {},
   "source": [
    "### Integrating structured LLM with the retriever"
   ]
  },
  {
   "cell_type": "code",
   "execution_count": 207,
   "id": "ac8892b1",
   "metadata": {},
   "outputs": [],
   "source": [
    "import json\n",
    "from typing import TypedDict\n",
    "from langchain.prompts import ChatPromptTemplate\n",
    "from langgraph.graph import START, StateGraph\n",
    "from pydantic import BaseModel, Field"
   ]
  },
  {
   "cell_type": "code",
   "execution_count": 208,
   "id": "e00002f6",
   "metadata": {},
   "outputs": [],
   "source": [
    "#output schema\n",
    "\n",
    "class QueryWithRemarks(BaseModel):\n",
    "    remarks: str = Field(\n",
    "        None, description=\"Additional context, observations, or analyst notes about the query.\"\n",
    "    )\n",
    "    relevant_details: list[str] = Field(\n",
    "        None, description=\"Key details, metadata, or attributes that should guide retrieval or filtering.\"\n",
    "    )"
   ]
  },
  {
   "cell_type": "code",
   "execution_count": 209,
   "id": "d3c1cda6",
   "metadata": {},
   "outputs": [],
   "source": [
    "structured_llm = llm.with_structured_output(QueryWithRemarks)"
   ]
  },
  {
   "cell_type": "code",
   "execution_count": 210,
   "id": "c41bd1fb",
   "metadata": {},
   "outputs": [],
   "source": [
    "custom_prompt = ChatPromptTemplate.from_messages([\n",
    "    (\"system\", \n",
    "     \"You are a domain expert assistant for test execution and compliance verification. \"\n",
    "     \"Your job is to analyze each individual test action and provide only the most relevant supporting information from the given context.\"\n",
    "     \"Do not invent facts. Focus on compliance, security, and functional details that apply directly to the action.\\n\\n\"\n",
    "     \"Use Metadata for Filters: If regulatory tags are provided (e.g., HIPAA, FDA_510K, IEC_62304), \"\n",
    "     \"prioritize retrieving and applying context that matches those tags. This ensures that the supporting information aligns with the compliance requirements of the test case.\"),\n",
    "    \n",
    "    (\"human\", \n",
    "     \"Title: {title}\\n\\n\"\n",
    "     \"Description: {description}\\n\\n\"\n",
    "     \"Test Action: {steps}\\n\\n\"\n",
    "     \"Regulatory Tags: {regulatory_tags}\\n\\n\"\n",
    "     \"Retrieved Context:\\n{context}\\n\\n\"\n",
    "     \"Based on the context (and matching the regulatory tags if applicable), explain what requirements, \"\n",
    "     \"rules, or technical details are relevant for this action.\\n\\nAnswer:\")\n",
    "])"
   ]
  },
  {
   "cell_type": "code",
   "execution_count": null,
   "id": "569f9e1e",
   "metadata": {},
   "outputs": [],
   "source": [
    "class State(TypedDict):\n",
    "    title: str\n",
    "    description: str\n",
    "    steps: list[str]\n",
    "    context: list\n",
    "    regulatory_tags: list[str] \n",
    "    answer: str"
   ]
  },
  {
   "cell_type": "code",
   "execution_count": 212,
   "id": "751c7fd4",
   "metadata": {},
   "outputs": [],
   "source": [
    "def retrieve(state: State):\n",
    "    \"\"\"Fetches context from vector database for particular actions\"\"\"\n",
    "\n",
    "    retrieved_context = \" \"\n",
    "    for step in state[\"steps\"]:\n",
    "        context = vector_store.similarity_search(step[\"action\"])\n",
    "        print(f\"Searching context for {step[\"action\"]}\")\n",
    "        context_txt = \"\\n\\n\".join(doc.page_content for doc in context)\n",
    "        retrieved_context += context_txt + \"\\n\\n\"\n",
    "\n",
    "    return {\"context\": retrieved_context.strip()}"
   ]
  },
  {
   "cell_type": "code",
   "execution_count": 217,
   "id": "27cf440a",
   "metadata": {},
   "outputs": [],
   "source": [
    "def generate(state: State):\n",
    "    messages = custom_prompt.invoke({\n",
    "        \"title\": state[\"title\"],\n",
    "        \"description\": state[\"description\"],\n",
    "        \"steps\": state[\"steps\"],\n",
    "        \"regulatory_tags\": state[\"regulatory_tags\"],\n",
    "        \"context\": state[\"context\"],\n",
    "    })\n",
    "    response = structured_llm.invoke(messages)\n",
    "    return {\"answer\": response}"
   ]
  },
  {
   "cell_type": "code",
   "execution_count": 218,
   "id": "b2763a06",
   "metadata": {},
   "outputs": [],
   "source": [
    "graph_builder = StateGraph(State).add_sequence([retrieve, generate])\n",
    "graph_builder.add_edge(START, \"retrieve\")\n",
    "graph = graph_builder.compile()"
   ]
  },
  {
   "cell_type": "code",
   "execution_count": 219,
   "id": "381d7167",
   "metadata": {},
   "outputs": [],
   "source": [
    "class State(TypedDict):\n",
    "    title: str\n",
    "    description: str\n",
    "    steps: list[str]\n",
    "    context: list\n",
    "    regulatory_tags: list[str]  \n",
    "    answer: str"
   ]
  },
  {
   "cell_type": "code",
   "execution_count": 220,
   "id": "26dfab5a",
   "metadata": {},
   "outputs": [
    {
     "name": "stdout",
     "output_type": "stream",
     "text": [
      "Searching context for Review HIPAA requirements\n",
      "Searching context for Test patient_data_handling against requirements\n",
      "Searching context for Document compliance evidence\n"
     ]
    }
   ],
   "source": [
    "with open('test-case.json', 'r') as file:    \n",
    "    data = json.load(file)\n",
    "\n",
    "result = graph.invoke(\n",
    "    {\"title\": data[\"title\"],\n",
    "     \"description\": data[\"description\"],\n",
    "     \"steps\": data[\"steps\"],\n",
    "     \"regulatory_tags\": data[\"regulatory_tags\"]}\n",
    "    )"
   ]
  },
  {
   "cell_type": "code",
   "execution_count": null,
   "id": "bc7d7e9f",
   "metadata": {},
   "outputs": [
    {
     "name": "stdout",
     "output_type": "stream",
     "text": [
      "Remarks: The user is asking for relevant information to verify HIPAA compliance for patient data handling, based on the provided context. The context primarily discusses FDA regulations related to medical device software and electronic health records, including requirements for electronic records and signatures (21 CFR Part 11), and general software validation principles. While HIPAA is the regulatory tag, the context does not explicitly mention HIPAA requirements. I need to extract information from the context that is broadly relevant to secure and compliant patient data handling and documentation, even if it's under FDA regulations.\n",
      "\n",
      "\n",
      "Relevant Details: ['HIPAA compliance', 'patient data handling', 'electronic health records', 'electronic signatures', 'audit trails', 'system logs', 'compliance documentation', 'software testing']\n"
     ]
    }
   ],
   "source": [
    "## OUTPUT WITH STRUCTURE SCHEMA\n",
    "\n",
    "print(f\"Remarks: {result['answer'].remarks}\\n\\n\")\n",
    "print(f\"Relevant Details: {result['answer'].relevant_details}\")"
   ]
  },
  {
   "cell_type": "code",
   "execution_count": null,
   "id": "8b2f3885",
   "metadata": {},
   "outputs": [
    {
     "name": "stdout",
     "output_type": "stream",
     "text": [
      "Answer: For the test action \"Review HIPAA requirements,\" \"Test patient_data_handling against requirements,\" and \"Document compliance evidence,\" the following details are relevant:\n",
      "\n",
      "*   **Patient Data Handling Context:** The software functions involved in \"patient_data_handling\" often include those that allow individuals to view, transfer, or download Electronic Health Record (EHR) data, facilitating general patient health information management and record-keeping activities. These functions may also provide patients with tools to organize, track, and access information related to their health conditions or treatments.\n",
      "*   **Compliance Benchmarks:** For electronic patient record functions, meeting the full description of section 520(o)(1)(C) in the FD&C Act implies that these functions are not considered devices if they are reviewed by Healthcare Professionals (HCPs) and **certified under the ONC Health IT Certification Program**. While the context notes FDA's enforcement discretion regarding ONC certification for certain functions, the certification itself is a key indicator for compliance with health IT standards, which often encompass HIPAA-related requirements for patient data.\n",
      "*   **Testing and Documentation for Compliance:**\n",
      "    *   **Test Procedures:** Test procedures, data, and results should be thoroughly documented to permit objective pass/fail decisions and be suitable for subsequent review and regression testing. Any errors detected during testing must be logged, classified, reviewed, and resolved.\n",
      "    *   **Electronic Records Preference:** For documenting compliance evidence, leverage automated traceability, testing, and electronic capture of work. The use of electronic records, such as system logs, audit trails, and other data generated by the software, is recommended over manual or paper-based documentation and screenshots.\n",
      "    *   **21 CFR Part 11 Applicability:** If the software handling patient data is used as part of production or a quality system, and generates electronic records requiring signatures (e.g., under Part 820), then 21 CFR Part 11 (Electronic Records; Electronic Signatures) applies. This mandates that:\n",
      "        *   Electronic signature execution records are stored as part of an audit trail.\n",
      "        *   Electronic signatures employ two distinct identification components (e.g., login and password).\n",
      "        *   The execution record includes the signer's name, date/time of signature, and the meaning associated with the signature (e.g., review, approval, responsibility, authorship). These requirements ensure the integrity and authenticity of electronic records, aligning with the security principles necessary for HIPAA compliance.\n"
     ]
    }
   ],
   "source": [
    "## OUTPUT WITHOUT STRUCTURED SCHEMA\n",
    "\n",
    "print(f\"Context: {result['context']}\\n\\n\")\n",
    "print(f\"Answer: {result['answer']}\")"
   ]
  },
  {
   "cell_type": "code",
   "execution_count": null,
   "id": "8fb0ec7d",
   "metadata": {},
   "outputs": [],
   "source": []
  }
 ],
 "metadata": {
  "kernelspec": {
   "display_name": "gen-ai-exchange",
   "language": "python",
   "name": "python3"
  },
  "language_info": {
   "codemirror_mode": {
    "name": "ipython",
    "version": 3
   },
   "file_extension": ".py",
   "mimetype": "text/x-python",
   "name": "python",
   "nbconvert_exporter": "python",
   "pygments_lexer": "ipython3",
   "version": "3.12.11"
  }
 },
 "nbformat": 4,
 "nbformat_minor": 5
}
